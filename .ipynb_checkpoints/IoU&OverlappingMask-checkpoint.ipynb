{
 "cells": [
  {
   "cell_type": "code",
   "execution_count": 1,
   "metadata": {},
   "outputs": [],
   "source": [
    "import os\n",
    "import sys\n",
    "import random\n",
    "import shutil\n",
    "import re\n",
    "import time\n",
    "import numpy as np\n",
    "import glob\n",
    "import tqdm\n",
    "import cv2\n",
    "import pandas as pd\n",
    "import pickle\n",
    "import json\n",
    "import matplotlib\n",
    "import matplotlib.pyplot as plt"
   ]
  },
  {
   "cell_type": "code",
   "execution_count": null,
   "metadata": {},
   "outputs": [],
   "source": [
    "#function that quickly compute IoU and fct that says if a mask is included in another mask\n",
    "#finally fct that remove useless masks on an image (either if IoU>0.7 or if one included in another:remove the smallest one)"
   ]
  },
  {
   "cell_type": "code",
   "execution_count": null,
   "metadata": {},
   "outputs": [],
   "source": []
  },
  {
   "cell_type": "code",
   "execution_count": null,
   "metadata": {},
   "outputs": [],
   "source": []
  },
  {
   "cell_type": "code",
   "execution_count": null,
   "metadata": {},
   "outputs": [],
   "source": [
    "def iou_metric_batch2(y_trues_in, y_preds_in):\n",
    "    y_trues_in=(y_trues_in>0).squeeze()\n",
    "    y_preds_in=(y_preds_in).squeeze()\n",
    "    unions = np.sum(y_preds_in|y_trues_in,(1,2))\n",
    "    intersections=np.sum(y_preds_in*y_trues_in,(1,2))\n",
    "    ious=np.maximum(0.0,np.ceil(20*intersections/np.where(unions==0.0,1,unions)-10)/10)\n",
    "    return np.mean(np.where(unions==0,1,ious))"
   ]
  },
  {
   "cell_type": "code",
   "execution_count": null,
   "metadata": {},
   "outputs": [],
   "source": []
  },
  {
   "cell_type": "code",
   "execution_count": null,
   "metadata": {},
   "outputs": [],
   "source": []
  },
  {
   "cell_type": "code",
   "execution_count": null,
   "metadata": {},
   "outputs": [],
   "source": []
  }
 ],
 "metadata": {
  "kernelspec": {
   "display_name": "Python 3",
   "language": "python",
   "name": "python3"
  },
  "language_info": {
   "codemirror_mode": {
    "name": "ipython",
    "version": 3
   },
   "file_extension": ".py",
   "mimetype": "text/x-python",
   "name": "python",
   "nbconvert_exporter": "python",
   "pygments_lexer": "ipython3",
   "version": "3.6.4"
  }
 },
 "nbformat": 4,
 "nbformat_minor": 2
}
